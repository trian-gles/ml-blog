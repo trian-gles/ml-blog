{
  "nbformat": 4,
  "nbformat_minor": 0,
  "metadata": {
    "colab": {
      "name": "logistic_scratch.ipynb",
      "provenance": []
    },
    "kernelspec": {
      "name": "python3",
      "display_name": "Python 3"
    },
    "language_info": {
      "name": "python"
    }
  },
  "cells": [
    {
      "cell_type": "markdown",
      "source": [
        "# Logistic Regression from scratch"
      ],
      "metadata": {
        "id": "M5TqdqbDjXv4"
      }
    },
    {
      "cell_type": "code",
      "execution_count": 56,
      "metadata": {
        "id": "GOFUiOmOLFWv"
      },
      "outputs": [],
      "source": [
        "import matplotlib.pyplot as plt\n",
        "from sklearn import datasets\n",
        "import pandas as pd\n",
        "import numpy as np"
      ]
    },
    {
      "cell_type": "code",
      "source": [
        "iris = datasets.load_iris(as_frame=True)\n",
        "data1 = pd.DataFrame(data= np.c_[iris['data'], iris['target']],\n",
        "                     columns= iris['feature_names'] + ['target'])\n"
      ],
      "metadata": {
        "id": "hP6zB0mjMdkW"
      },
      "execution_count": 57,
      "outputs": []
    },
    {
      "cell_type": "code",
      "source": [
        "data1[\"target\"]"
      ],
      "metadata": {
        "colab": {
          "base_uri": "https://localhost:8080/"
        },
        "id": "ZI8KGXLEOa6g",
        "outputId": "805597a9-1a90-4c0f-e49e-f9531f8bac98"
      },
      "execution_count": 58,
      "outputs": [
        {
          "output_type": "execute_result",
          "data": {
            "text/plain": [
              "0      0.0\n",
              "1      0.0\n",
              "2      0.0\n",
              "3      0.0\n",
              "4      0.0\n",
              "      ... \n",
              "145    2.0\n",
              "146    2.0\n",
              "147    2.0\n",
              "148    2.0\n",
              "149    2.0\n",
              "Name: target, Length: 150, dtype: float64"
            ]
          },
          "metadata": {},
          "execution_count": 58
        }
      ]
    },
    {
      "cell_type": "code",
      "source": [
        "data1 = data1.drop([\"petal length (cm)\", \"petal width (cm)\"], axis=1)\n",
        "data1 = data1[data1[\"target\"] != 2.0]\n",
        "data1 = data1.rename(columns={\"sepal length (cm)\" : \"X1\", \"sepal width (cm)\" : \"X2\"})\n",
        "X0 = np.ones(100)\n",
        "data1[\"X0\"] = X0\n",
        "data1 = data1[[\"X0\", \"X1\", \"X2\", \"target\"]]\n"
      ],
      "metadata": {
        "id": "oJPFI4b4NBvM"
      },
      "execution_count": 59,
      "outputs": []
    },
    {
      "cell_type": "code",
      "source": [
        "data1"
      ],
      "metadata": {
        "colab": {
          "base_uri": "https://localhost:8080/",
          "height": 423
        },
        "id": "FZ-2q-9QuEm-",
        "outputId": "3570fab5-020c-4c24-e6d6-a653fad714e6"
      },
      "execution_count": 60,
      "outputs": [
        {
          "output_type": "execute_result",
          "data": {
            "text/html": [
              "\n",
              "  <div id=\"df-403b605d-93aa-4b26-bb58-3a8e54e57cf8\">\n",
              "    <div class=\"colab-df-container\">\n",
              "      <div>\n",
              "<style scoped>\n",
              "    .dataframe tbody tr th:only-of-type {\n",
              "        vertical-align: middle;\n",
              "    }\n",
              "\n",
              "    .dataframe tbody tr th {\n",
              "        vertical-align: top;\n",
              "    }\n",
              "\n",
              "    .dataframe thead th {\n",
              "        text-align: right;\n",
              "    }\n",
              "</style>\n",
              "<table border=\"1\" class=\"dataframe\">\n",
              "  <thead>\n",
              "    <tr style=\"text-align: right;\">\n",
              "      <th></th>\n",
              "      <th>X0</th>\n",
              "      <th>X1</th>\n",
              "      <th>X2</th>\n",
              "      <th>target</th>\n",
              "    </tr>\n",
              "  </thead>\n",
              "  <tbody>\n",
              "    <tr>\n",
              "      <th>0</th>\n",
              "      <td>1.0</td>\n",
              "      <td>5.1</td>\n",
              "      <td>3.5</td>\n",
              "      <td>0.0</td>\n",
              "    </tr>\n",
              "    <tr>\n",
              "      <th>1</th>\n",
              "      <td>1.0</td>\n",
              "      <td>4.9</td>\n",
              "      <td>3.0</td>\n",
              "      <td>0.0</td>\n",
              "    </tr>\n",
              "    <tr>\n",
              "      <th>2</th>\n",
              "      <td>1.0</td>\n",
              "      <td>4.7</td>\n",
              "      <td>3.2</td>\n",
              "      <td>0.0</td>\n",
              "    </tr>\n",
              "    <tr>\n",
              "      <th>3</th>\n",
              "      <td>1.0</td>\n",
              "      <td>4.6</td>\n",
              "      <td>3.1</td>\n",
              "      <td>0.0</td>\n",
              "    </tr>\n",
              "    <tr>\n",
              "      <th>4</th>\n",
              "      <td>1.0</td>\n",
              "      <td>5.0</td>\n",
              "      <td>3.6</td>\n",
              "      <td>0.0</td>\n",
              "    </tr>\n",
              "    <tr>\n",
              "      <th>...</th>\n",
              "      <td>...</td>\n",
              "      <td>...</td>\n",
              "      <td>...</td>\n",
              "      <td>...</td>\n",
              "    </tr>\n",
              "    <tr>\n",
              "      <th>95</th>\n",
              "      <td>1.0</td>\n",
              "      <td>5.7</td>\n",
              "      <td>3.0</td>\n",
              "      <td>1.0</td>\n",
              "    </tr>\n",
              "    <tr>\n",
              "      <th>96</th>\n",
              "      <td>1.0</td>\n",
              "      <td>5.7</td>\n",
              "      <td>2.9</td>\n",
              "      <td>1.0</td>\n",
              "    </tr>\n",
              "    <tr>\n",
              "      <th>97</th>\n",
              "      <td>1.0</td>\n",
              "      <td>6.2</td>\n",
              "      <td>2.9</td>\n",
              "      <td>1.0</td>\n",
              "    </tr>\n",
              "    <tr>\n",
              "      <th>98</th>\n",
              "      <td>1.0</td>\n",
              "      <td>5.1</td>\n",
              "      <td>2.5</td>\n",
              "      <td>1.0</td>\n",
              "    </tr>\n",
              "    <tr>\n",
              "      <th>99</th>\n",
              "      <td>1.0</td>\n",
              "      <td>5.7</td>\n",
              "      <td>2.8</td>\n",
              "      <td>1.0</td>\n",
              "    </tr>\n",
              "  </tbody>\n",
              "</table>\n",
              "<p>100 rows × 4 columns</p>\n",
              "</div>\n",
              "      <button class=\"colab-df-convert\" onclick=\"convertToInteractive('df-403b605d-93aa-4b26-bb58-3a8e54e57cf8')\"\n",
              "              title=\"Convert this dataframe to an interactive table.\"\n",
              "              style=\"display:none;\">\n",
              "        \n",
              "  <svg xmlns=\"http://www.w3.org/2000/svg\" height=\"24px\"viewBox=\"0 0 24 24\"\n",
              "       width=\"24px\">\n",
              "    <path d=\"M0 0h24v24H0V0z\" fill=\"none\"/>\n",
              "    <path d=\"M18.56 5.44l.94 2.06.94-2.06 2.06-.94-2.06-.94-.94-2.06-.94 2.06-2.06.94zm-11 1L8.5 8.5l.94-2.06 2.06-.94-2.06-.94L8.5 2.5l-.94 2.06-2.06.94zm10 10l.94 2.06.94-2.06 2.06-.94-2.06-.94-.94-2.06-.94 2.06-2.06.94z\"/><path d=\"M17.41 7.96l-1.37-1.37c-.4-.4-.92-.59-1.43-.59-.52 0-1.04.2-1.43.59L10.3 9.45l-7.72 7.72c-.78.78-.78 2.05 0 2.83L4 21.41c.39.39.9.59 1.41.59.51 0 1.02-.2 1.41-.59l7.78-7.78 2.81-2.81c.8-.78.8-2.07 0-2.86zM5.41 20L4 18.59l7.72-7.72 1.47 1.35L5.41 20z\"/>\n",
              "  </svg>\n",
              "      </button>\n",
              "      \n",
              "  <style>\n",
              "    .colab-df-container {\n",
              "      display:flex;\n",
              "      flex-wrap:wrap;\n",
              "      gap: 12px;\n",
              "    }\n",
              "\n",
              "    .colab-df-convert {\n",
              "      background-color: #E8F0FE;\n",
              "      border: none;\n",
              "      border-radius: 50%;\n",
              "      cursor: pointer;\n",
              "      display: none;\n",
              "      fill: #1967D2;\n",
              "      height: 32px;\n",
              "      padding: 0 0 0 0;\n",
              "      width: 32px;\n",
              "    }\n",
              "\n",
              "    .colab-df-convert:hover {\n",
              "      background-color: #E2EBFA;\n",
              "      box-shadow: 0px 1px 2px rgba(60, 64, 67, 0.3), 0px 1px 3px 1px rgba(60, 64, 67, 0.15);\n",
              "      fill: #174EA6;\n",
              "    }\n",
              "\n",
              "    [theme=dark] .colab-df-convert {\n",
              "      background-color: #3B4455;\n",
              "      fill: #D2E3FC;\n",
              "    }\n",
              "\n",
              "    [theme=dark] .colab-df-convert:hover {\n",
              "      background-color: #434B5C;\n",
              "      box-shadow: 0px 1px 3px 1px rgba(0, 0, 0, 0.15);\n",
              "      filter: drop-shadow(0px 1px 2px rgba(0, 0, 0, 0.3));\n",
              "      fill: #FFFFFF;\n",
              "    }\n",
              "  </style>\n",
              "\n",
              "      <script>\n",
              "        const buttonEl =\n",
              "          document.querySelector('#df-403b605d-93aa-4b26-bb58-3a8e54e57cf8 button.colab-df-convert');\n",
              "        buttonEl.style.display =\n",
              "          google.colab.kernel.accessAllowed ? 'block' : 'none';\n",
              "\n",
              "        async function convertToInteractive(key) {\n",
              "          const element = document.querySelector('#df-403b605d-93aa-4b26-bb58-3a8e54e57cf8');\n",
              "          const dataTable =\n",
              "            await google.colab.kernel.invokeFunction('convertToInteractive',\n",
              "                                                     [key], {});\n",
              "          if (!dataTable) return;\n",
              "\n",
              "          const docLinkHtml = 'Like what you see? Visit the ' +\n",
              "            '<a target=\"_blank\" href=https://colab.research.google.com/notebooks/data_table.ipynb>data table notebook</a>'\n",
              "            + ' to learn more about interactive tables.';\n",
              "          element.innerHTML = '';\n",
              "          dataTable['output_type'] = 'display_data';\n",
              "          await google.colab.output.renderOutput(dataTable, element);\n",
              "          const docLink = document.createElement('div');\n",
              "          docLink.innerHTML = docLinkHtml;\n",
              "          element.appendChild(docLink);\n",
              "        }\n",
              "      </script>\n",
              "    </div>\n",
              "  </div>\n",
              "  "
            ],
            "text/plain": [
              "     X0   X1   X2  target\n",
              "0   1.0  5.1  3.5     0.0\n",
              "1   1.0  4.9  3.0     0.0\n",
              "2   1.0  4.7  3.2     0.0\n",
              "3   1.0  4.6  3.1     0.0\n",
              "4   1.0  5.0  3.6     0.0\n",
              "..  ...  ...  ...     ...\n",
              "95  1.0  5.7  3.0     1.0\n",
              "96  1.0  5.7  2.9     1.0\n",
              "97  1.0  6.2  2.9     1.0\n",
              "98  1.0  5.1  2.5     1.0\n",
              "99  1.0  5.7  2.8     1.0\n",
              "\n",
              "[100 rows x 4 columns]"
            ]
          },
          "metadata": {},
          "execution_count": 60
        }
      ]
    },
    {
      "cell_type": "code",
      "source": [
        "plt.scatter(data1[\"X1\"], data1[\"X2\"], c=data1[\"target\"])"
      ],
      "metadata": {
        "colab": {
          "base_uri": "https://localhost:8080/",
          "height": 285
        },
        "id": "uK0lwRMuQhLg",
        "outputId": "b2100850-3164-4f58-8e21-570aabb91bdf"
      },
      "execution_count": 61,
      "outputs": [
        {
          "output_type": "execute_result",
          "data": {
            "text/plain": [
              "<matplotlib.collections.PathCollection at 0x7f497a21cad0>"
            ]
          },
          "metadata": {},
          "execution_count": 61
        },
        {
          "output_type": "display_data",
          "data": {
            "image/png": "[encoded data removed]",
            "text/plain": [
              "<Figure size 432x288 with 1 Axes>"
            ]
          },
          "metadata": {
            "needs_background": "light"
          }
        }
      ]
    },
    {
      "cell_type": "code",
      "source": [
        "from sklearn.model_selection import train_test_split\n",
        "X_training, X_testing, Y_training, Y_testing = train_test_split(data1[['X0', 'X1','X2']], data1['target'], test_size=0.3)"
      ],
      "metadata": {
        "id": "V2VbYmHMSBR5"
      },
      "execution_count": 62,
      "outputs": []
    },
    {
      "cell_type": "markdown",
      "source": [
        "# Estimate function"
      ],
      "metadata": {
        "id": "QeK1FwkyYrHy"
      }
    },
    {
      "cell_type": "markdown",
      "source": [
        "$\\hat{p}=h_{\\theta}(x)=\\sigma(x^T\\theta)$"
      ],
      "metadata": {
        "id": "5dNbcoEbnbo2"
      }
    },
    {
      "cell_type": "markdown",
      "source": [
        "$\\sigma(t)=\\frac{1}{1 + e^{(-t)}}$"
      ],
      "metadata": {
        "id": "O8vwnWkKm-e4"
      }
    },
    {
      "cell_type": "code",
      "source": [
        "from math import e\n",
        "\n",
        "# after applying the activation function, estimate based on which class is more likely\n",
        "def logistic_estimate(weights, feature_values):\n",
        "  weighted_sum = np.dot(weights.T, feature_values)\n",
        "  return 1 / (1 + e ** -weighted_sum)\n",
        "\n",
        "def predict_all(weights, df):\n",
        "  return df.apply( lambda row: int(logistic_estimate(weights, row) > 0.5), axis=1)"
      ],
      "metadata": {
        "id": "gJR5iVYsUHPH"
      },
      "execution_count": 63,
      "outputs": []
    },
    {
      "cell_type": "markdown",
      "source": [
        "# Cost function"
      ],
      "metadata": {
        "id": "C2WXKrzSYtTB"
      }
    },
    {
      "cell_type": "markdown",
      "source": [
        ">$J(θ)= -\\frac{1}{m}\\sum_{i = 1}^m \\left[y^{(i)}log\\left(\\hat{p}^{(i)}\\right)+ \\left(1 - y^{(i)}\\right)log\\left(1 - \\hat{p}^{(i)}\\right)\\right]$"
      ],
      "metadata": {
        "id": "5fJUYEGvdcVo"
      }
    },
    {
      "cell_type": "code",
      "source": [
        "from math import log\n",
        "def cost(weights):\n",
        "  J = 0\n",
        "  for index, row in X_training.iterrows():\n",
        "    p = logistic_estimate(weights, row)\n",
        "    y = Y_training[index]\n",
        "    J -= y * log(p) + (1 - y) * log(1 - p)\n",
        "  return J / len(X_training)"
      ],
      "metadata": {
        "id": "g78dz7L5VaIy"
      },
      "execution_count": 65,
      "outputs": []
    },
    {
      "cell_type": "markdown",
      "source": [
        "# Training"
      ],
      "metadata": {
        "id": "C0mSa4AXYyEJ"
      }
    },
    {
      "cell_type": "markdown",
      "source": [
        "## Partial derivatives of cost function:"
      ],
      "metadata": {
        "id": "zTURLXLzmwAy"
      }
    },
    {
      "cell_type": "markdown",
      "source": [
        ">$\\frac{\\delta}{\\delta\\theta_j}J(θ)= \\frac{1}{m}\\sum_{i = 1}^m\n",
        "\\left(\n",
        "  \\sigma\\left(\\theta^Tx^{(i)} - y^{(i)}\\right)\n",
        "\\right)$"
      ],
      "metadata": {
        "id": "K1nUOeP2mulT"
      }
    },
    {
      "cell_type": "code",
      "source": [
        "maximum_iter = 2000\n",
        "learning_rate = 0.1\n",
        "weights = np.array([.1, .3, -2])\n",
        "m = len(X_training)\n",
        "J_all = []\n",
        "for _ in range(maximum_iter):\n",
        "  J = 0\n",
        "  Jt = np.zeros(3)\n",
        "  for index, row in X_training.iterrows():\n",
        "    p = logistic_estimate(weights, row)\n",
        "    y = Y_training[index]\n",
        "    J -= (y * log(p) + (1 - y) * log(1 - p)) * (1 / m)\n",
        "    Jt += (p - y) * row * (1 / m)\n",
        "  J_all.append(J)\n",
        "  weights -= learning_rate * Jt"
      ],
      "metadata": {
        "id": "vzFIuNRfYx4G"
      },
      "execution_count": 67,
      "outputs": []
    },
    {
      "cell_type": "markdown",
      "source": [
        "# Loss curve"
      ],
      "metadata": {
        "id": "c5pD7QYIkp-r"
      }
    },
    {
      "cell_type": "code",
      "source": [
        "plt.plot(J_all)"
      ],
      "metadata": {
        "colab": {
          "base_uri": "https://localhost:8080/",
          "height": 283
        },
        "id": "4a2tOKhBhSjd",
        "outputId": "82c76d6d-0f49-4af3-ad27-0ffb4b35cbc0"
      },
      "execution_count": 68,
      "outputs": [
        {
          "output_type": "execute_result",
          "data": {
            "text/plain": [
              "[<matplotlib.lines.Line2D at 0x7f497a16cc90>]"
            ]
          },
          "metadata": {},
          "execution_count": 68
        },
        {
          "output_type": "display_data",
          "data": {
            "image/png": "[encoded data removed]",
            "text/plain": [
              "<Figure size 432x288 with 1 Axes>"
            ]
          },
          "metadata": {
            "needs_background": "light"
          }
        }
      ]
    },
    {
      "cell_type": "markdown",
      "source": [
        "# Evaluation"
      ],
      "metadata": {
        "id": "TZxLoUil0kvp"
      }
    },
    {
      "cell_type": "markdown",
      "source": [
        ""
      ],
      "metadata": {
        "id": "C664Qd2Z0ksL"
      }
    },
    {
      "cell_type": "code",
      "source": [
        "Y_training_predicted = predict_all(weights, X_training)\n",
        "Y_testing_predicted = predict_all(weights, X_testing)"
      ],
      "metadata": {
        "id": "b8eIAjYG0msn"
      },
      "execution_count": 69,
      "outputs": []
    },
    {
      "cell_type": "code",
      "source": [
        "from sklearn.metrics import accuracy_score, precision_score, recall_score,f1_score"
      ],
      "metadata": {
        "id": "fzLClTyx4c2S"
      },
      "execution_count": 71,
      "outputs": []
    },
    {
      "cell_type": "code",
      "source": [
        "print('Result:')\n",
        "print('Accuracy: ',accuracy_score(Y_testing, Y_testing_predicted))\n",
        "print('f1_score: ', f1_score(Y_testing, Y_testing_predicted, average='weighted'))\n",
        "print('Precision: ', precision_score(Y_testing, Y_testing_predicted, average='weighted'))\n",
        "print('Recall: ', recall_score(Y_testing,Y_testing_predicted, average='weighted'))"
      ],
      "metadata": {
        "colab": {
          "base_uri": "https://localhost:8080/"
        },
        "id": "S9CG0bME4nMw",
        "outputId": "afa93f69-2366-42e6-b5b5-cbea6defc369"
      },
      "execution_count": 72,
      "outputs": [
        {
          "output_type": "stream",
          "name": "stdout",
          "text": [
            "Result:\n",
            "Accuracy:  1.0\n",
            "f1_score:  1.0\n",
            "Precision:  1.0\n",
            "Recall:  1.0\n"
          ]
        }
      ]
    },
    {
      "cell_type": "code",
      "source": [
        "plt.scatter(X_training['X1'][Y_training==0],X_training['X2'][Y_training==0], color='blue')\n",
        "plt.scatter(X_training['X1'][Y_training==1],X_training['X2'][Y_training==1], color='red')\n",
        "plt.scatter(X_training['X1'][Y_training!=Y_training_predicted],X_training['X2'][Y_training!=Y_training_predicted],label='Wrong classification',color='green')\n",
        "\n",
        "plt.title('Logistic Classification Result - Training Data')\n",
        "plt.legend()"
      ],
      "metadata": {
        "colab": {
          "base_uri": "https://localhost:8080/",
          "height": 298
        },
        "id": "yAmVPKIV5880",
        "outputId": "7fed28f7-66be-45c6-badc-02ae219b29b8"
      },
      "execution_count": 73,
      "outputs": [
        {
          "output_type": "execute_result",
          "data": {
            "text/plain": [
              "<matplotlib.legend.Legend at 0x7f497b335510>"
            ]
          },
          "metadata": {},
          "execution_count": 73
        },
        {
          "output_type": "display_data",
          "data": {
            "image/png": "[encoded data removed]",
            "text/plain": [
              "<Figure size 432x288 with 1 Axes>"
            ]
          },
          "metadata": {
            "needs_background": "light"
          }
        }
      ]
    },
    {
      "cell_type": "code",
      "source": [
        "plt.scatter(X_testing['X1'][Y_testing==0],X_testing['X2'][Y_testing==0], color='blue')\n",
        "plt.scatter(X_testing['X1'][Y_testing==1],X_testing['X2'][Y_testing==1], color='red')\n",
        "plt.scatter(X_testing['X1'][Y_testing!=Y_testing_predicted],X_testing['X2'][Y_testing!=Y_testing_predicted],label='Wrong classification',color='green')\n",
        "\n",
        "plt.title('Logistic Classification Result - Testing Data')\n",
        "plt.legend()"
      ],
      "metadata": {
        "colab": {
          "base_uri": "https://localhost:8080/",
          "height": 298
        },
        "id": "vUQFL-xl6ULe",
        "outputId": "18f1fdb6-2658-4630-86f6-96fede3a478d"
      },
      "execution_count": 74,
      "outputs": [
        {
          "output_type": "execute_result",
          "data": {
            "text/plain": [
              "<matplotlib.legend.Legend at 0x7f497a048f50>"
            ]
          },
          "metadata": {},
          "execution_count": 74
        },
        {
          "output_type": "display_data",
          "data": {
            "image/png": "[encoded data removed]",
            "text/plain": [
              "<Figure size 432x288 with 1 Axes>"
            ]
          },
          "metadata": {
            "needs_background": "light"
          }
        }
      ]
    },
    {
      "cell_type": "code",
      "source": [
        "from sklearn.metrics import confusion_matrix, ConfusionMatrixDisplay"
      ],
      "metadata": {
        "id": "W7Rl4ChQ7ZvJ"
      },
      "execution_count": 75,
      "outputs": []
    },
    {
      "cell_type": "code",
      "source": [
        "ConfusionMatrixDisplay.from_predictions(Y_testing, Y_testing_predicted)"
      ],
      "metadata": {
        "colab": {
          "base_uri": "https://localhost:8080/",
          "height": 296
        },
        "id": "BI42yl817nwl",
        "outputId": "d55f876f-0ef4-41e9-bc19-a2224fbe2f5d"
      },
      "execution_count": 76,
      "outputs": [
        {
          "output_type": "execute_result",
          "data": {
            "text/plain": [
              "<sklearn.metrics._plot.confusion_matrix.ConfusionMatrixDisplay at 0x7f497a0254d0>"
            ]
          },
          "metadata": {},
          "execution_count": 76
        },
        {
          "output_type": "display_data",
          "data": {
            "image/png": "[encoded data removed]",
            "text/plain": [
              "<Figure size 432x288 with 2 Axes>"
            ]
          },
          "metadata": {
            "needs_background": "light"
          }
        }
      ]
    },
    {
      "cell_type": "code",
      "source": [
        "data1[\"X1\"].max()"
      ],
      "metadata": {
        "colab": {
          "base_uri": "https://localhost:8080/"
        },
        "id": "nbLfgkWH9O7h",
        "outputId": "11737282-c446-4d70-d4a0-c6caed823eb3"
      },
      "execution_count": 77,
      "outputs": [
        {
          "output_type": "execute_result",
          "data": {
            "text/plain": [
              "7.0"
            ]
          },
          "metadata": {},
          "execution_count": 77
        }
      ]
    },
    {
      "cell_type": "code",
      "source": [
        "x1_grid=np.arange(data1[\"X1\"].min(),data1[\"X1\"].max(),0.1)\n",
        "x2_grid=np.arange(data1[\"X2\"].min(),data1[\"X2\"].max(),0.1)\n",
        "xx1,xx2=np.meshgrid(x1_grid,x2_grid)\n",
        "data_grid = np.array([xx1, xx2]).reshape(2, -1).T\n",
        "data_grid.shape"
      ],
      "metadata": {
        "colab": {
          "base_uri": "https://localhost:8080/"
        },
        "id": "Vfubh4gE9NG4",
        "outputId": "50d225ce-b4cb-4f62-830d-b2760d142451"
      },
      "execution_count": 106,
      "outputs": [
        {
          "output_type": "execute_result",
          "data": {
            "text/plain": [
              "(675, 2)"
            ]
          },
          "metadata": {},
          "execution_count": 106
        }
      ]
    },
    {
      "cell_type": "code",
      "source": [
        "data_grid_frame = pd.DataFrame(data_grid)\n",
        "data_grid_frame[\"X0\"] = pd.Series(1 for _ in range(len(data_grid_frame)))\n",
        "data_grid_frame = data_grid_frame[[\"X0\", 0, 1]]\n",
        "predicted_grid = predict_all(weights, data_grid_frame).to_numpy()\n",
        "predicted_grid.shape"
      ],
      "metadata": {
        "colab": {
          "base_uri": "https://localhost:8080/"
        },
        "id": "5RFQanJ8UvVa",
        "outputId": "7ff976ac-5b48-46cb-92f4-8933c62d74dc"
      },
      "execution_count": 122,
      "outputs": [
        {
          "output_type": "execute_result",
          "data": {
            "text/plain": [
              "(675,)"
            ]
          },
          "metadata": {},
          "execution_count": 122
        }
      ]
    },
    {
      "cell_type": "code",
      "source": [
        "plt.contourf(x1_grid,x2_grid,predicted_grid.reshape(x2_grid.shape[0],x1_grid.shape[0]))\n",
        "plt.scatter(data1[\"X1\"], data1[\"X2\"], c=data1[\"target\"])"
      ],
      "metadata": {
        "colab": {
          "base_uri": "https://localhost:8080/",
          "height": 282
        },
        "id": "dX-4VK_y9ePe",
        "outputId": "c22c64f3-3356-4e95-9264-8107e88fa4e0"
      },
      "execution_count": 124,
      "outputs": [
        {
          "output_type": "execute_result",
          "data": {
            "text/plain": [
              "<matplotlib.collections.PathCollection at 0x7f497805ed50>"
            ]
          },
          "metadata": {},
          "execution_count": 124
        },
        {
          "output_type": "display_data",
          "data": {
            "image/png": "[encoded data removed]",
            "text/plain": [
              "<Figure size 432x288 with 1 Axes>"
            ]
          },
          "metadata": {
            "needs_background": "light"
          }
        }
      ]
    }
  ]
}